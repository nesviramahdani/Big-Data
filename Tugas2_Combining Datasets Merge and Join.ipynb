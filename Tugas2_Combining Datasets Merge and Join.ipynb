{
  "nbformat": 4,
  "nbformat_minor": 0,
  "metadata": {
    "colab": {
      "name": "Untitled12.ipynb",
      "provenance": [],
      "authorship_tag": "ABX9TyNChD3OnFVBLmmjHYh9AhJq",
      "include_colab_link": true
    },
    "kernelspec": {
      "name": "python3",
      "display_name": "Python 3"
    },
    "language_info": {
      "name": "python"
    }
  },
  "cells": [
    {
      "cell_type": "markdown",
      "metadata": {
        "id": "view-in-github",
        "colab_type": "text"
      },
      "source": [
        "<a href=\"https://colab.research.google.com/github/nesviramahdani/Big-Data/blob/main/Tugas2_Combining%20Datasets%20Merge%20and%20Join.ipynb\" target=\"_parent\"><img src=\"https://colab.research.google.com/assets/colab-badge.svg\" alt=\"Open In Colab\"/></a>"
      ]
    },
    {
      "cell_type": "code",
      "metadata": {
        "id": "Iwg8oTPifZHm"
      },
      "source": [
        "import pandas as pd\n",
        "import numpy as np"
      ],
      "execution_count": null,
      "outputs": []
    },
    {
      "cell_type": "code",
      "metadata": {
        "id": "ghxeLeIqfkkm"
      },
      "source": [
        "df1 = pd.DataFrame({'employee': ['Bob', 'Jake', 'Lisa', 'Sue'],\n",
        "                    'group': ['Accounting', 'Engineering', 'Engineering', 'HR']})\n",
        "df2 = pd.DataFrame({'employee': ['Lisa', 'Bob', 'Jake', 'Sue'],\n",
        "                    'hire_date': [2004, 2008, 2012, 2014]})\n",
        "print(df1); print(df2)"
      ],
      "execution_count": null,
      "outputs": []
    },
    {
      "cell_type": "code",
      "metadata": {
        "id": "8Ekfr4Ipfrmg"
      },
      "source": [
        "df3 = pd.merge(df1, df2)\n",
        "df3"
      ],
      "execution_count": null,
      "outputs": []
    },
    {
      "cell_type": "code",
      "metadata": {
        "id": "dhhknvZpfolt"
      },
      "source": [
        "df4 = pd.DataFrame({'group': ['Accounting', 'Engineering', 'HR'],\n",
        "                           'supervisor': ['Carly', 'Guido', 'Steve']})\n",
        "       print(df3); print(df4); print(pd.merge(df3, df4))"
      ],
      "execution_count": null,
      "outputs": []
    },
    {
      "cell_type": "code",
      "metadata": {
        "id": "vX14DXhffyS4"
      },
      "source": [
        "df5 = pd.DataFrame({'group': ['Accounting', 'Accounting',\n",
        "                    'Engineering', 'Engineering', 'HR', 'HR'],\n",
        "                    'skills': ['math', 'spreadsheets', 'coding', 'linux',\n",
        "                    'spreadsheets', 'organization']})\n",
        "print(df1); print(df5); print(pd.merge(df1, df5))"
      ],
      "execution_count": null,
      "outputs": []
    },
    {
      "cell_type": "code",
      "metadata": {
        "id": "btMZpveGf_1I"
      },
      "source": [
        "print(df1); print(df2); print(pd.merge(df1, df2, on='employee'))\n"
      ],
      "execution_count": null,
      "outputs": []
    },
    {
      "cell_type": "code",
      "metadata": {
        "id": "Fn9-DkW5gFqn"
      },
      "source": [
        "df3 = pd.DataFrame({'name': ['Bob', 'Jake', 'Lisa', 'Sue'],\n",
        "                    'salary': [70000, 80000, 120000, 90000]})\n",
        "print(df1); print(df3);\n",
        "print(pd.merge(df1, df3, left_on=\"employee\", right_on=\"name\"))"
      ],
      "execution_count": null,
      "outputs": []
    },
    {
      "cell_type": "code",
      "metadata": {
        "id": "FGMwzxXkgLuG"
      },
      "source": [
        "pd.merge(df1, df3, left_on=\"employee\", right_on=\"name\").drop('name', axis=1)"
      ],
      "execution_count": null,
      "outputs": []
    },
    {
      "cell_type": "code",
      "metadata": {
        "id": "AuogBIm-gP5P"
      },
      "source": [
        "print(df1a); print(df2a);\n",
        "print(pd.merge(df1a, df2a, left_index=True, right_index=True))"
      ],
      "execution_count": null,
      "outputs": []
    },
    {
      "cell_type": "code",
      "metadata": {
        "id": "QJzH_OUcgTpm"
      },
      "source": [
        "print(df1a); print(df2a); print(df1a.join(df2a))\n"
      ],
      "execution_count": null,
      "outputs": []
    },
    {
      "cell_type": "code",
      "metadata": {
        "id": "6uM9RU0igXpV"
      },
      "source": [
        "print(df1a); print(df3);\n",
        "print(pd.merge(df1a, df3, left_index=True, right_on='name'))"
      ],
      "execution_count": null,
      "outputs": []
    },
    {
      "cell_type": "code",
      "metadata": {
        "id": "2VXy5DD2gZH9"
      },
      "source": [
        "df6 = pd.DataFrame({'name': ['Peter', 'Paul', 'Mary'],\n",
        "                    'food': ['fish', 'beans', 'bread']},\n",
        "                    columns=['name', 'food'])\n",
        "df7 = pd.DataFrame({'name': ['Mary', 'Joseph'],\n",
        "                    'drink': ['wine', 'beer']},\n",
        "                    columns=['name', 'drink'])\n",
        "print(df6); print(df7); print(pd.merge(df6, df7))"
      ],
      "execution_count": null,
      "outputs": []
    },
    {
      "cell_type": "code",
      "metadata": {
        "id": "EVIHf9g0gkoV"
      },
      "source": [
        " pd.merge(df6, df7, how='inner')\n"
      ],
      "execution_count": null,
      "outputs": []
    },
    {
      "cell_type": "code",
      "metadata": {
        "id": "wuhc0B0egolr"
      },
      "source": [
        "print(df6); print(df7); print(pd.merge(df6, df7, how='outer'))\n"
      ],
      "execution_count": null,
      "outputs": []
    },
    {
      "cell_type": "code",
      "metadata": {
        "id": "6d96VzZqgsIT"
      },
      "source": [
        "print(df6); print(df7); print(pd.merge(df6, df7, how='left'))\n"
      ],
      "execution_count": null,
      "outputs": []
    },
    {
      "cell_type": "code",
      "metadata": {
        "id": "fBTEEFK3gyrL"
      },
      "source": [
        "df8 = pd.DataFrame({'name': ['Bob', 'Jake', 'Lisa', 'Sue'],\n",
        "                    'rank': [1, 2, 3, 4]})\n",
        "df9 = pd.DataFrame({'name': ['Bob', 'Jake', 'Lisa', 'Sue'],\n",
        "                   'rank': [3, 1, 4, 2]})\n",
        "print(df8); print(df9); print(pd.merge(df8, df9, on=\"name\"))"
      ],
      "execution_count": null,
      "outputs": []
    },
    {
      "cell_type": "code",
      "metadata": {
        "id": "7OkbzlHmg9js"
      },
      "source": [
        "print(df8); print(df9);\n",
        "print(pd.merge(df8, df9, on=\"name\", suffixes=[\"_L\", \"_R\"]))"
      ],
      "execution_count": null,
      "outputs": []
    },
    {
      "cell_type": "code",
      "metadata": {
        "id": "5-a0q-FWg-pM"
      },
      "source": [
        "# Following are shell commands to download the data\n",
        "# !curl -O https://raw.githubusercontent.com/jakevdp/\n",
        "#    data-USstates/master/state-population.csv\n",
        "# !curl -O https://raw.githubusercontent.com/jakevdp/\n",
        "#    data-USstates/master/state-areas.csv\n",
        "# !curl -O https://raw.githubusercontent.com/jakevdp/\n",
        "#    data-USstates/master/state-abbrevs.csv"
      ],
      "execution_count": null,
      "outputs": []
    },
    {
      "cell_type": "code",
      "metadata": {
        "id": "utl4_4YbhHTO"
      },
      "source": [
        " pop = pd.read_csv('state-population.csv')\n",
        "        areas = pd.read_csv('state-areas.csv')\n",
        "        abbrevs = pd.read_csv('state-abbrevs.csv')\n",
        "        print(pop.head()); print(areas.head()); print(abbrevs.head())\n"
      ],
      "execution_count": null,
      "outputs": []
    },
    {
      "cell_type": "code",
      "metadata": {
        "id": "BwYIkZV8hKoV"
      },
      "source": [
        " merged = pd.merge(pop, abbrevs, how='outer',\n",
        "                          left_on='state/region', right_on='abbreviation')\n",
        "        merged = merged.drop('abbreviation', 1) # drop duplicate info\n",
        "        merged.head()"
      ],
      "execution_count": null,
      "outputs": []
    },
    {
      "cell_type": "code",
      "metadata": {
        "id": "wr8qlUB_hSaO"
      },
      "source": [
        " merged.isnull().any()\n"
      ],
      "execution_count": null,
      "outputs": []
    },
    {
      "cell_type": "code",
      "metadata": {
        "id": "UmwYreXnhTSF"
      },
      "source": [
        "merged[merged['population'].isnull()].head()\n"
      ],
      "execution_count": null,
      "outputs": []
    },
    {
      "cell_type": "code",
      "metadata": {
        "id": "JRCW-VwkhW29"
      },
      "source": [
        "merged.loc[merged['state'].isnull(), 'state/region'].unique()\n"
      ],
      "execution_count": null,
      "outputs": []
    },
    {
      "cell_type": "code",
      "metadata": {
        "id": "zCP2bZlihewO"
      },
      "source": [
        "merged.loc[merged['state/region'] == 'PR', 'state'] = 'Puerto Rico'\n",
        "merged.loc[merged['state/region'] == 'USA', 'state'] = 'United States'\n",
        "merged.isnull().any()"
      ],
      "execution_count": null,
      "outputs": []
    },
    {
      "cell_type": "code",
      "metadata": {
        "id": "Abjz-Z7YhkB_"
      },
      "source": [
        " final = pd.merge(merged, areas, on='state', how='left')\n",
        "        final.head()"
      ],
      "execution_count": null,
      "outputs": []
    },
    {
      "cell_type": "code",
      "metadata": {
        "id": "lTpMTTu4hk0o"
      },
      "source": [
        "final.isnull().any()\n"
      ],
      "execution_count": null,
      "outputs": []
    },
    {
      "cell_type": "code",
      "metadata": {
        "id": "GplYpK0jhprX"
      },
      "source": [
        "final['state'][final['area (sq. mi)'].isnull()].unique()\n"
      ],
      "execution_count": null,
      "outputs": []
    },
    {
      "cell_type": "code",
      "metadata": {
        "id": "oIOqUk8thqTw"
      },
      "source": [
        "final.dropna(inplace=True)\n",
        "final.head()"
      ],
      "execution_count": null,
      "outputs": []
    },
    {
      "cell_type": "code",
      "metadata": {
        "id": "8iTk7A6yhtth"
      },
      "source": [
        "data2010 = final.query(\"year == 2010 & ages == 'total'\")\n",
        "data2010.head()"
      ],
      "execution_count": null,
      "outputs": []
    },
    {
      "cell_type": "code",
      "metadata": {
        "id": "JYI3cSROhz2B"
      },
      "source": [
        "data2010.set_index('state', inplace=True)\n",
        "density = data2010['population'] / data2010['area (sq. mi)']"
      ],
      "execution_count": null,
      "outputs": []
    },
    {
      "cell_type": "code",
      "metadata": {
        "id": "shTVxfiwh15h"
      },
      "source": [
        "density.sort_values(ascending=False, inplace=True)\n",
        "density.head()"
      ],
      "execution_count": null,
      "outputs": []
    },
    {
      "cell_type": "code",
      "metadata": {
        "id": "cacCnJmHh5SC"
      },
      "source": [
        "density.tail()\n"
      ],
      "execution_count": null,
      "outputs": []
    }
  ]
}